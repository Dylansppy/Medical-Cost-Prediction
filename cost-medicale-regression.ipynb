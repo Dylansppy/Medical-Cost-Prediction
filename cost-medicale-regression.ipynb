{
 "cells": [
  {
   "cell_type": "markdown",
   "metadata": {
    "_uuid": "8aa05612c6953cf38dc15e5c83a00253adefafd9"
   },
   "source": [
    "**Principle of the DM**\n"
   ]
  },
  {
   "cell_type": "markdown",
   "metadata": {
    "_uuid": "2ba40bd3aa67ce19d5cbe575f9107e41df480d1e"
   },
   "source": [
    "* In order to build our forecasting model, we will have to opt for using CRISP-DM methodology.\n",
    "* Goal is to transform data into knowledge.\n",
    "* for any project and any data, and to build a knowledge with these data, we must first go through these 4 steps:\n",
    "    1. Get the data\n",
    "    2. Prepare the data ( Data exploration, Data cleaning, Data reduction, Data transformation)\n",
    "    3. Extract pattern\n",
    "    4. Evaluate pattern\n",
    "\n",
    "\n"
   ]
  },
  {
   "cell_type": "markdown",
   "metadata": {
    "_uuid": "a0bc045663b220655776aa6560cc547203439c3c"
   },
   "source": [
    "\n",
    "# Medical Cost\n",
    "\n"
   ]
  },
  {
   "cell_type": "markdown",
   "metadata": {
    "_uuid": "9f64a43aea20346becc93e068926d3d5a17d7bb1"
   },
   "source": [
    "### * Business understanding\n"
   ]
  },
  {
   "cell_type": "markdown",
   "metadata": {
    "_uuid": "4f08b1e7c20b34161cd985efacc31df2877765fb"
   },
   "source": [
    "Exploration of a data set dedicated to the treatment costs of different patients for the prediction of these medical costs in relation to their age, bmi, ..."
   ]
  },
  {
   "cell_type": "markdown",
   "metadata": {
    "_uuid": "dbd35311d230758f4b340beef383749de819e95d"
   },
   "source": [
    "### * Defining business objectives\n",
    "\n"
   ]
  },
  {
   "cell_type": "markdown",
   "metadata": {
    "_uuid": "0612e03a2efeddd88fdd0350cbd396c09f6df5b3"
   },
   "source": [
    "* Rendre les données plus accessibles et compréhensibles pour tous.\n",
    "* Provide rapid analyzes for various factors affecting medical costs.\n",
    "* use different prediction and classification algorithms\n",
    "* calculating and comparing evaluation measures\n",
    "\n",
    "\n"
   ]
  },
  {
   "cell_type": "markdown",
   "metadata": {
    "_uuid": "ef998e8cd85a6dbc2310acdfb4545e2af36f06db"
   },
   "source": [
    "##### importing libraries\n",
    "\n"
   ]
  },
  {
   "cell_type": "code",
   "execution_count": null,
   "metadata": {
    "_uuid": "5372c28de41cd91104511c1c28965b6e77a6b65c"
   },
   "outputs": [],
   "source": [
    "#import Python libraries\n",
    "import pandas as pd #for DataFrames  -- resembles relational DB and SQL\n",
    "import numpy as np #for mathematical operations -- resembles Matlab"
   ]
  },
  {
   "cell_type": "code",
   "execution_count": null,
   "metadata": {
    "_uuid": "1807f8c17ed06384acd05f5b0513d84d9191911b"
   },
   "outputs": [],
   "source": [
    "#to import the library which allows to plot and visualize the data in graph form\n",
    "import matplotlib.pyplot as plt\n",
    "%matplotlib inline\n",
    "import seaborn as sns\n",
    "import plotly.plotly as py\n",
    "from plotly.offline import init_notebook_mode, iplot\n",
    "init_notebook_mode(connected=True)\n",
    "import plotly.graph_objs as go\n",
    "import warnings\n",
    "warnings.filterwarnings('ignore')"
   ]
  },
  {
   "cell_type": "code",
   "execution_count": null,
   "metadata": {
    "_uuid": "fa3f9f5bdd9fe553c0f8fdf9526098dcc0b9fb50"
   },
   "outputs": [],
   "source": [
    "# to import Scikit-learn which is a linear model (Regrssion and SVM)\n",
    "from sklearn.model_selection import train_test_split\n",
    "from sklearn import linear_model\n",
    "from sklearn.metrics import mean_squared_error\n",
    "from sklearn import metrics"
   ]
  },
  {
   "cell_type": "markdown",
   "metadata": {
    "_uuid": "3bf77810fab4bc69b6dd549446ada32d958dc437"
   },
   "source": [
    "## 1.Get Data"
   ]
  },
  {
   "cell_type": "markdown",
   "metadata": {
    "_uuid": "518bafb9ad6406420f18291caa9c004ff0364eda"
   },
   "source": [
    "##### in this part we will get and understand the data"
   ]
  },
  {
   "cell_type": "code",
   "execution_count": null,
   "metadata": {
    "_uuid": "fe0df1dbbff2c8a7b338f046a031e0664c0c25b1"
   },
   "outputs": [],
   "source": [
    "# set the path of the data file\n",
    "filepath = \"../input/costmedical.csv\"\n",
    "df = pd.read_csv(filepath)"
   ]
  },
  {
   "cell_type": "code",
   "execution_count": null,
   "metadata": {
    "_uuid": "a5df33c5f49462f4255eff712199b86f1710bc4a"
   },
   "outputs": [],
   "source": [
    "df.info()"
   ]
  },
  {
   "cell_type": "code",
   "execution_count": null,
   "metadata": {
    "_uuid": "7b7fa8cfffbfaf35921a0c6f40daeca5266444d3"
   },
   "outputs": [],
   "source": [
    "type(df)"
   ]
  },
  {
   "cell_type": "code",
   "execution_count": null,
   "metadata": {
    "_uuid": "aa2d8c577db159dd037f93826bb5a074fb13b98d"
   },
   "outputs": [],
   "source": [
    "# The number of rows and columns in this data frame\n",
    "df.shape"
   ]
  },
  {
   "cell_type": "code",
   "execution_count": null,
   "metadata": {
    "_uuid": "8adb5e2e39777add1c8d49862463f09e5fe07131"
   },
   "outputs": [],
   "source": [
    "# display the first 10 lines of the data\n",
    "df.head(10)"
   ]
  },
  {
   "cell_type": "code",
   "execution_count": null,
   "metadata": {
    "_uuid": "a51c2face25da6447ae009df788750a8e08cea6f"
   },
   "outputs": [],
   "source": [
    "# list of column names\n",
    "df.columns"
   ]
  },
  {
   "cell_type": "code",
   "execution_count": null,
   "metadata": {
    "_uuid": "738b0060c1970646a2c293b9d9970a02164c1d25"
   },
   "outputs": [],
   "source": [
    "#the data type of each column\n",
    "df.dtypes"
   ]
  },
  {
   "cell_type": "code",
   "execution_count": null,
   "metadata": {
    "_uuid": "df724871529985a0921e4a5921f2b8452337083a"
   },
   "outputs": [],
   "source": [
    "#dans ce case on va voir les différents valeurs de type  Object ,\n",
    "df.sex.unique()\n"
   ]
  },
  {
   "cell_type": "code",
   "execution_count": null,
   "metadata": {
    "_uuid": "ea974095c139eab55395e174cb5b1942d6e203cf"
   },
   "outputs": [],
   "source": [
    "df.smoker.unique()\n"
   ]
  },
  {
   "cell_type": "code",
   "execution_count": null,
   "metadata": {
    "_uuid": "9defe73cf924cdabacf23e908cc105938cfd4228"
   },
   "outputs": [],
   "source": [
    "df.region.unique()"
   ]
  },
  {
   "cell_type": "code",
   "execution_count": null,
   "metadata": {
    "_uuid": "f008320ad652260819fdf788aaaf96f6466ab632"
   },
   "outputs": [],
   "source": [
    "#on géneral unique() se fait sur les attribut de type object, mais aussi on peut le faire pour les autres types d'attributs mais ,elle est unitile\n",
    "df.age.unique()"
   ]
  },
  {
   "cell_type": "code",
   "execution_count": null,
   "metadata": {
    "_uuid": "68c2c21bbd63c9f04b40e81d2baeec37fa80d54f"
   },
   "outputs": [],
   "source": [
    "df.describe()"
   ]
  },
  {
   "cell_type": "markdown",
   "metadata": {
    "_uuid": "8bc9b415f0815aac208ee184982897bc2d615264"
   },
   "source": [
    "###### Today, we will explore a set of data dedicated to the treatment costs of different patients\n",
    "###### regression usage, svm"
   ]
  },
  {
   "cell_type": "markdown",
   "metadata": {
    "_uuid": "92407a413a59995e579a09b29e2ecfb1c01401d3"
   },
   "source": [
    "## 1- DATA PREPARATION"
   ]
  },
  {
   "cell_type": "markdown",
   "metadata": {
    "_uuid": "40de5816d890599d72ef7521cfecacdad601d298"
   },
   "source": [
    "### Explore the data\n"
   ]
  },
  {
   "cell_type": "markdown",
   "metadata": {
    "_uuid": "a9386d63eee3d919fb4b4f34712ac0b8eee4b1f6"
   },
   "source": [
    "##### - Check the missing value\n"
   ]
  },
  {
   "cell_type": "markdown",
   "metadata": {
    "_uuid": "c91b8ec2182038d017ba4b7b4036e4e0e9a440ad"
   },
   "source": [
    "We want to know how many missing values there are in each attribute (column).\n",
    "To do this, use the functions isna or isnull"
   ]
  },
  {
   "cell_type": "code",
   "execution_count": null,
   "metadata": {
    "_uuid": "c61f5fdc1b0f99b4583cc66acb5243629f3d92a3"
   },
   "outputs": [],
   "source": [
    "df.corr()"
   ]
  },
  {
   "cell_type": "code",
   "execution_count": null,
   "metadata": {
    "_uuid": "39b4008d26cdba13f479ac82e9a4b8fd47a6e2ba"
   },
   "outputs": [],
   "source": [
    "df.corr()['charges'].sort_values()"
   ]
  },
  {
   "cell_type": "code",
   "execution_count": null,
   "metadata": {
    "_uuid": "9875ecec9de1c5ed372b01ff73fe7d945dc57419"
   },
   "outputs": [],
   "source": [
    "#are there zero values in our data?\n",
    "df.isnull().sum()"
   ]
  },
  {
   "cell_type": "markdown",
   "metadata": {
    "_uuid": "401501a5e87c2d9805df7beacc4f2572f9cab536"
   },
   "source": [
    "very good choose when we have not empty values in the data, let's look at our data to understand something about it. Since we are mainly interested in the amount of the costs"
   ]
  },
  {
   "cell_type": "markdown",
   "metadata": {
    "_uuid": "6ee5b4eb84e7f56265c20b898ac2d9a11e2eb91a"
   },
   "source": [
    "##### - Check duplicate values\n"
   ]
  },
  {
   "cell_type": "markdown",
   "metadata": {
    "_uuid": "5553888336dea6ee8ff3c0b8dd62b33d308b64ab"
   },
   "source": [
    "pour savoir les valeurs dupliquer,on utilise , la fonction duplicated()"
   ]
  },
  {
   "cell_type": "code",
   "execution_count": null,
   "metadata": {
    "_uuid": "8a63221fb5f4241fd4f5a80632e059a8de1a419a"
   },
   "outputs": [],
   "source": [
    "df.duplicated().sum()"
   ]
  },
  {
   "cell_type": "markdown",
   "metadata": {
    "_uuid": "339cb2305f490c8855ce153f8cab48b580f6b6d9"
   },
   "source": [
    "\n",
    "- oops, we have a duplicate value, it must eliminate (data cleansing phase)\n",
    "=> the function drop_duplicated () "
   ]
  },
  {
   "cell_type": "code",
   "execution_count": null,
   "metadata": {
    "_uuid": "714442f6583fa5fa2f0e42a21bf0381c1becd770"
   },
   "outputs": [],
   "source": [
    "df.duplicated().shape"
   ]
  },
  {
   "cell_type": "code",
   "execution_count": null,
   "metadata": {
    "_uuid": "052e457e861bb89f7611c9b546d9965f6b9ca704"
   },
   "outputs": [],
   "source": [
    "df.drop_duplicates(keep='first').shape"
   ]
  },
  {
   "cell_type": "markdown",
   "metadata": {
    "_uuid": "e4d70358308ec2da9395e2d2aa2e1d9a4d4149d6"
   },
   "source": [
    "### Visualize distribution of attribute values\n",
    "\n"
   ]
  },
  {
   "cell_type": "markdown",
   "metadata": {
    "_uuid": "a0307310f2d941284e322c0106f575034c033877"
   },
   "source": [
    "This will help us identify bad values and bad attributes ...\n"
   ]
  },
  {
   "cell_type": "code",
   "execution_count": null,
   "metadata": {
    "_uuid": "e32684c90ae51cbe727099b92cabad51e4692d89"
   },
   "outputs": [],
   "source": [
    "#we will now see the function value_counts () which allows to return the numbers of the unique values of an object\n",
    "# We use the value_counts () method to get the distribution of a particular column in the data block.\n",
    "# This method actually returns the absolute number of frequencies (default)\n",
    "df.age.value_counts()"
   ]
  },
  {
   "cell_type": "code",
   "execution_count": null,
   "metadata": {
    "_uuid": "954e4bcd34ccd43fd82378008c67f023649d2463"
   },
   "outputs": [],
   "source": [
    "#to better see the data, we use the plots\n",
    "plt.figure(figsize=(12,5))\n",
    "plt.title(\"Distribution of age\")\n",
    "ax = sns.distplot(df[\"age\"])"
   ]
  },
  {
   "cell_type": "markdown",
   "metadata": {
    "_uuid": "c9d52b5bc72fc598737d12216c8fa618d62e66ce"
   },
   "source": [
    "###### * Note that the most common ages are between 18 and 23."
   ]
  },
  {
   "cell_type": "code",
   "execution_count": null,
   "metadata": {
    "_uuid": "6db1d4fedf1131ac2d7660d5ba0e453f178c586f"
   },
   "outputs": [],
   "source": [
    "#we can also display the less frequent values\n",
    "pd.value_counts(df.age).tail(n=4)"
   ]
  },
  {
   "cell_type": "code",
   "execution_count": null,
   "metadata": {
    "_uuid": "dbeda48ff70bcb1814086818ad4ad918e5a9bd5d"
   },
   "outputs": [],
   "source": [
    "# then only show the 10 most frequent values\n",
    "pd.value_counts(df.age).head(n=10)"
   ]
  },
  {
   "cell_type": "code",
   "execution_count": null,
   "metadata": {
    "_uuid": "10edbfea82686f92f58c09dc8337170e69292246"
   },
   "outputs": [],
   "source": [
    "gender_list = [df[df.sex == \"female\"].sex.value_counts().tolist(), df[df.sex == \"male\"].sex.value_counts().tolist()]\n",
    "gender_list = [gender_list[0][0], gender_list[1][0]]\n",
    "gender_list"
   ]
  },
  {
   "cell_type": "code",
   "execution_count": null,
   "metadata": {
    "_uuid": "d9b28bca9a533046d227e5bbc289990ff5932ca0"
   },
   "outputs": [],
   "source": [
    "labels = [\"Female\", \"Male\"]\n",
    "values = gender_list\n",
    "trace = go.Pie(labels=labels, values=values,\n",
    "               hoverinfo='label+percent', textinfo='percent', \n",
    "               textfont=dict(size=20),\n",
    "               )\n",
    "data = [trace]\n",
    "layout = go.Layout(title='Rate of Males & Females')\n",
    "fig = go.Figure(data = data, layout = layout)\n",
    "iplot(fig)"
   ]
  },
  {
   "cell_type": "code",
   "execution_count": null,
   "metadata": {
    "_uuid": "4accb6c1eba086751f33d422fbcc58f22611b58f"
   },
   "outputs": [],
   "source": [
    "df.bmi.value_counts()"
   ]
  },
  {
   "cell_type": "code",
   "execution_count": null,
   "metadata": {
    "_uuid": "a3a114d8b2d389f7849dc73d705f19331bc0d37c"
   },
   "outputs": [],
   "source": [
    "plt.figure(figsize=(12,5))\n",
    "plt.title(\"Distribution of BMI\")\n",
    "ax = sns.distplot(df[\"bmi\"])"
   ]
  },
  {
   "cell_type": "code",
   "execution_count": null,
   "metadata": {
    "_uuid": "8a6256fd3dd42619ece151952229843852979a4c"
   },
   "outputs": [],
   "source": [
    "df.children.value_counts()"
   ]
  },
  {
   "cell_type": "code",
   "execution_count": null,
   "metadata": {
    "_uuid": "c788c0e4a11d82992d2582afcc79ddb473edb612"
   },
   "outputs": [],
   "source": [
    "df.children.value_counts().plot(kind='bar')"
   ]
  },
  {
   "cell_type": "code",
   "execution_count": null,
   "metadata": {
    "_uuid": "955edcd655da14c0b9b90ba14bb8b313f7b952d9"
   },
   "outputs": [],
   "source": [
    "df.smoker.value_counts()"
   ]
  },
  {
   "cell_type": "code",
   "execution_count": null,
   "metadata": {
    "_uuid": "03578455c7637a4d3d4aba3ee62a14df802a9cc2"
   },
   "outputs": [],
   "source": [
    "df.smoker.value_counts().plot(kind='bar')"
   ]
  },
  {
   "cell_type": "code",
   "execution_count": null,
   "metadata": {
    "_uuid": "c54ebf9fbdc6033f6aea4481f8df18319fb6e6be"
   },
   "outputs": [],
   "source": [
    "df.region.value_counts()"
   ]
  },
  {
   "cell_type": "code",
   "execution_count": null,
   "metadata": {
    "_uuid": "c939d7bb21fa2077c0bb7d9a202986490a941b6a"
   },
   "outputs": [],
   "source": [
    "df.region.value_counts().plot(kind='bar')"
   ]
  },
  {
   "cell_type": "code",
   "execution_count": null,
   "metadata": {
    "_uuid": "f6f358fed2d10362827f8db1467dfbc1e6673b4e"
   },
   "outputs": [],
   "source": [
    "df.charges.value_counts()"
   ]
  },
  {
   "cell_type": "code",
   "execution_count": null,
   "metadata": {
    "_uuid": "7d30d986466a0b941e213daec9f3e4f3c6eca783"
   },
   "outputs": [],
   "source": [
    "plt.figure(figsize=(12,5))\n",
    "plt.title(\"Distribution of charges\")\n",
    "ax = sns.distplot(df[\"charges\"],color = 'y')"
   ]
  },
  {
   "cell_type": "code",
   "execution_count": null,
   "metadata": {
    "_uuid": "e0582cc68f1aa6c4c68e054be7d4164883973668"
   },
   "outputs": [],
   "source": [
    "# We call the describe () method to get simple statistical summaries of ALL the numeric columns of the DataFrame\n",
    "df.describe()"
   ]
  },
  {
   "cell_type": "code",
   "execution_count": null,
   "metadata": {
    "_uuid": "110799da547e04c84bf92736617b89d30499d052"
   },
   "outputs": [],
   "source": [
    "# even here we can get simple statistical summaries for object type columns\n",
    "df.describe(include=['object'])"
   ]
  },
  {
   "cell_type": "code",
   "execution_count": null,
   "metadata": {
    "_uuid": "56fd3a1771d2887aec37dd40d98b2dc7feafc36b"
   },
   "outputs": [],
   "source": [
    "df.describe(include=['int64'])"
   ]
  },
  {
   "cell_type": "markdown",
   "metadata": {
    "_uuid": "a4d75dbb3cf1fd5d547351b4f1a1932ec092c422"
   },
   "source": [
    "### Visualize the relationship between attributes\n",
    "This is useful for detecting * irrelevant * and * redundant * attributes."
   ]
  },
  {
   "cell_type": "code",
   "execution_count": null,
   "metadata": {
    "_uuid": "26d8df02abb738224e5a00161ef3e9ade2d8ce51"
   },
   "outputs": [],
   "source": [
    "#we use the corr method to calculate the linear correlation coefficient of two NUMERIC attributes\n",
    "df.corr()"
   ]
  },
  {
   "cell_type": "code",
   "execution_count": null,
   "metadata": {
    "_uuid": "c49602ab9b0e1cccbfabaaa6e419b2c1b09f523b"
   },
   "outputs": [],
   "source": [
    "# We use the crosstab () method to display the co-occurrence frequency table of two attributes.\n",
    "pd.crosstab(df.age,df.children)"
   ]
  },
  {
   "cell_type": "code",
   "execution_count": null,
   "metadata": {
    "_uuid": "40ac26c6cf58de8cba60a05cc70ea2959572e3c9"
   },
   "outputs": [],
   "source": [
    "pd.crosstab(df.age,df.smoker)"
   ]
  },
  {
   "cell_type": "markdown",
   "metadata": {
    "_uuid": "b6a1f2cc84d49ac4045e28c2afc48b52bf2dc454"
   },
   "source": [
    "- The attributes are well structured, we do not have attributes nor redundant nor relevant\n",
    "- to clearly see the coorelation between the attributes, it must convert the attribute of the object type, since corr () makes it possible to calculate the linear correlation coefficient of two attributes NUMERIC\n",
    "- use of librarian lableEncoder"
   ]
  },
  {
   "cell_type": "code",
   "execution_count": null,
   "metadata": {
    "_uuid": "388454f82e17c83521f6e3025f429fe06bbc8402"
   },
   "outputs": [],
   "source": [
    "from sklearn.preprocessing import LabelEncoder\n",
    "#sex\n",
    "le = LabelEncoder()\n",
    "le.fit(df.sex.drop_duplicates()) \n",
    "df.sex = le.transform(df.sex)\n",
    "# smoker or not\n",
    "le.fit(df.smoker.drop_duplicates()) \n",
    "df.smoker = le.transform(df.smoker)\n",
    "#region\n",
    "le.fit(df.region.drop_duplicates()) \n",
    "df.region = le.transform(df.region)"
   ]
  },
  {
   "cell_type": "code",
   "execution_count": null,
   "metadata": {
    "_uuid": "49c6cfdc564c6b0d5bbd9c679937a8e743755265"
   },
   "outputs": [],
   "source": []
  },
  {
   "cell_type": "code",
   "execution_count": null,
   "metadata": {
    "_uuid": "f93a3903b031d75743d31c062d8bd4b932a56fbd"
   },
   "outputs": [],
   "source": [
    "df.corr()['charges'].sort_values()"
   ]
  },
  {
   "cell_type": "markdown",
   "metadata": {
    "_uuid": "35eb37b64bb41bd2d19be423e434ec27d576a854"
   },
   "source": [
    "* According to the correlation chart, we notice that there is a strong coorelation between the loads and the smoking and non-smoking patients"
   ]
  },
  {
   "cell_type": "markdown",
   "metadata": {
    "_uuid": "a75b594ab4aa8e946606676020dfed6b9d602869"
   },
   "source": [
    "###   1. Medical Costs of Smoker vs Non-Smokers\n"
   ]
  },
  {
   "cell_type": "markdown",
   "metadata": {
    "_uuid": "3c8b922839cd10dd3101a4bd700fd063e1145ec0"
   },
   "source": [
    "![![image.png](attachment:image.jpg =20*10)](http://www.lemondedesados.fr/wp-content/uploads/2016/10/stop-620x350.jpg)"
   ]
  },
  {
   "cell_type": "code",
   "execution_count": null,
   "metadata": {
    "_uuid": "07807de4d5142e36a5831cb7b4ad74bd79d172c6"
   },
   "outputs": [],
   "source": [
    "charges_sorted = df.copy()\n",
    "sort_index = (df['charges'].sort_values(ascending=False)).index.values\n",
    "charges_sorted = df.reindex(sort_index)\n",
    "charges_sorted.reset_index(inplace=True)\n",
    "charges_sorted.head()"
   ]
  },
  {
   "cell_type": "code",
   "execution_count": null,
   "metadata": {
    "_uuid": "9bd7e78dd6b3d4e45765929a041788514784d7bf"
   },
   "outputs": [],
   "source": [
    "trace0 = go.Scatter(\n",
    "    x = charges_sorted.index,\n",
    "    y = charges_sorted[charges_sorted.smoker == 1].charges,\n",
    "    name = \"Smokers\",\n",
    "    mode='lines',\n",
    "    marker=dict(\n",
    "        size=12,\n",
    "        color = \"red\", #set color equal to a variable\n",
    "    )\n",
    ")\n",
    "\n",
    "trace1 = go.Scatter(\n",
    "    x = charges_sorted.index,\n",
    "    y = charges_sorted[charges_sorted.smoker == 0].charges,\n",
    "    name = \"Non-Smokers\",\n",
    "    mode='lines',\n",
    "    marker=dict(\n",
    "        size=12,\n",
    "        color = \"green\", #set color equal to a variable\n",
    "    )\n",
    ")\n",
    "\n",
    "\n",
    "data = [trace0,trace1]\n",
    "layout = go.Layout(title = 'Medical Costs of Smoker vs Non-Smokers',\n",
    "              xaxis = dict(title = 'Persons'),\n",
    "              yaxis = dict(title = 'Medical Costs'),)\n",
    "fig = go.Figure(data=data, layout=layout)\n",
    "iplot(fig)"
   ]
  },
  {
   "cell_type": "markdown",
   "metadata": {
    "_uuid": "3be96262f3ae9f9a95d3c02ab1adc4bd5fc5c662"
   },
   "source": [
    "* => In smoking patients, the cost of treatment increases almost twice compared to non-smokers"
   ]
  },
  {
   "cell_type": "markdown",
   "metadata": {
    "_uuid": "d8a1c0242ba2da92c36f54fbb01dbe921108d10c"
   },
   "source": [
    "###   2. Bmi compared to average medical costs (low-normal-high )\n",
    "\n"
   ]
  },
  {
   "cell_type": "markdown",
   "metadata": {
    "_uuid": "d3db797f913a34ea597675db952d833335ab1720"
   },
   "source": [
    "1. ![![image.png](attachment:image.jpg )](https://www.healthhub.sg/sites/assets/Assets/Programs/bmi/image01.gif)"
   ]
  },
  {
   "cell_type": "code",
   "execution_count": null,
   "metadata": {
    "_uuid": "a62e552180dff5a6879b44ec62ccf8340c159943"
   },
   "outputs": [],
   "source": [
    "dict_bmi= {'low' : df[df.bmi < 18.5].charges.mean(),\n",
    "               'normal' : df[(df.bmi > 18.5) & (df.bmi < 24.9)].charges.mean(),\n",
    "               'high' : df[df.bmi > 24.9].charges.mean(),\n",
    "             }\n",
    "df_bmi = pd.DataFrame.from_dict(dict_bmi, orient='index')\n",
    "df_bmi.reset_index(inplace=True)\n",
    "df_bmi.columns = ['bmi', 'mean_value']\n",
    "df_bmi"
   ]
  },
  {
   "cell_type": "code",
   "execution_count": null,
   "metadata": {
    "_uuid": "f21921b9f20e1df67a3641a9f810c8d4dca2a5fe",
    "scrolled": true
   },
   "outputs": [],
   "source": [
    "my_color = ['rgb(220,250,39)','rgb(102,189,99)','rgb(115,48,39)']\n",
    "trace=go.Bar(\n",
    "            x=df_bmi.bmi,\n",
    "            y=df_bmi.mean_value,\n",
    "            text=\"Mean Medical Costs\",\n",
    "            marker=dict(\n",
    "                color=my_color,\n",
    "                line=dict(\n",
    "                color=my_color,\n",
    "                width=1.5),\n",
    "            ),\n",
    "            opacity=0.7)\n",
    "\n",
    "data = [trace]\n",
    "layout = go.Layout(title = 'Body mass index',\n",
    "              xaxis = dict(title = 'BMI'),\n",
    "              yaxis = dict(title = 'mean charges'))\n",
    "fig = go.Figure(data = data, layout = layout)\n",
    "iplot(fig)"
   ]
  },
  {
   "cell_type": "code",
   "execution_count": null,
   "metadata": {
    "_uuid": "579dffec314398dbeec0528153c1525af9932ffc"
   },
   "outputs": [],
   "source": []
  },
  {
   "cell_type": "code",
   "execution_count": null,
   "metadata": {
    "_uuid": "3e2117463d3ac99aaa4cf9faa8b461a7d8bb7a77"
   },
   "outputs": [],
   "source": [
    "plt.figure(figsize=(12,5))\n",
    "plt.title(\"Distribution de charges pour les patients à un BMI= low\")\n",
    "ax = sns.distplot(df[(df.bmi < 18.5)]\n",
    "                  ['charges'], color = 'm')"
   ]
  },
  {
   "cell_type": "code",
   "execution_count": null,
   "metadata": {
    "_uuid": "cad0cc885ae3581dc5a2abff10f6a3d178689d85"
   },
   "outputs": [],
   "source": [
    "plt.figure(figsize=(12,5))\n",
    "plt.title(\"Distribution of charges for patients with BMI = normal\")\n",
    "ax = sns.distplot(df[(df.bmi > 18.5) & (df.bmi < 24.9)]['charges'], color = 'b')"
   ]
  },
  {
   "cell_type": "code",
   "execution_count": null,
   "metadata": {
    "_uuid": "126be081c2020d4d42a689bee5a5ce4dd2d0252e"
   },
   "outputs": [],
   "source": [
    "plt.figure(figsize=(12,5))\n",
    "plt.title(\"Distribution of charges for patients with BMI=high\")\n",
    "ax = sns.distplot(df[df.bmi > 24.9]['charges'], color = 'y')"
   ]
  },
  {
   "cell_type": "markdown",
   "metadata": {
    "_uuid": "d7c5eba4e7fe68aa721dd38148fbfe4501e5642f"
   },
   "source": [
    "### 4.Medical Costs Means by Regions\n"
   ]
  },
  {
   "cell_type": "markdown",
   "metadata": {
    "_uuid": "1b17d49b035f38683acd66109a3d9a9b2a110fbc"
   },
   "source": [
    "![![image.png](attachment:image.jpg =100*300)](https://www.sare.org/extension/htmlmap/design/standard/images/SARE_USA-292.png)"
   ]
  },
  {
   "cell_type": "code",
   "execution_count": null,
   "metadata": {
    "_uuid": "235d367857877b4918ae4e7ac9d876c6438fb5e9"
   },
   "outputs": [],
   "source": [
    "dict_regions= {'southwest' : df[df.region == 0].charges.mean(),\n",
    "              'southeast' : df[df.region == 1].charges.mean(),\n",
    "              'northwest' : df[df.region == 2].charges.mean(),\n",
    "              'northeast' : df[df.region == 3].charges.mean()\n",
    "             }\n",
    "df_regions = pd.DataFrame.from_dict(dict_regions, orient='index')\n",
    "df_regions.reset_index(inplace=True)\n",
    "df_regions.columns = ['regions', 'charges']\n",
    "\n",
    "df_regions"
   ]
  },
  {
   "cell_type": "code",
   "execution_count": null,
   "metadata": {
    "_uuid": "d3770926740f9a7fe791f28ac04f8c2c6378a3f1"
   },
   "outputs": [],
   "source": [
    "import plotly.graph_objs as go\n",
    "\n",
    "trace=go.Bar(\n",
    "            x=df_regions.regions,\n",
    "            y=df_regions.charges,\n",
    "            text=\"Mean Medical Costs\",\n",
    "            opacity=0.8)\n",
    "\n",
    "data = [trace]\n",
    "layout = go.Layout(title ='Medical Cost Means by Regions',\n",
    "              xaxis = dict(title = 'Region'),\n",
    "              yaxis = dict(title = 'Medical Cost'))\n",
    "fig = go.Figure(data = data, layout = layout)\n",
    "iplot(fig)"
   ]
  },
  {
   "cell_type": "markdown",
   "metadata": {
    "_uuid": "5723700c2dd0f12de14672b3ab7b890c2f9c043f"
   },
   "source": [
    "### 4. Medical Costs Means by Age\n"
   ]
  },
  {
   "cell_type": "markdown",
   "metadata": {
    "_uuid": "a5d2c2c203c720db475394c599c96ad88b1b1a71"
   },
   "source": [
    "![![image.png](attachment:image.jpg =100*300)](https://cdn.psychologytoday.com/sites/default/files/styles/image-article_inline_full/public/field_blog_entry_images/Longevity%20Cartoon_1.jpg?itok=X89Hn_1J)"
   ]
  },
  {
   "cell_type": "code",
   "execution_count": null,
   "metadata": {
    "_uuid": "6408fff8fd7e4bc33e21cc0f589948fe3a814f5d"
   },
   "outputs": [],
   "source": [
    "dict_age= {'youth' : df[(df.age > 18)&(df.age < 30 )].charges.mean(),\n",
    "               'adult' : df[(df.age > 30)&(df.age < 50 )].charges.mean(),\n",
    "               'elders' : df[(df.age > 50)&(df.age < 70 )].charges.mean(),\n",
    "             }\n",
    "df_age = pd.DataFrame.from_dict(dict_age, orient='index')\n",
    "df_age.reset_index(inplace=True)\n",
    "df_age.columns = ['age', 'mean_value']\n",
    "df_age"
   ]
  },
  {
   "cell_type": "code",
   "execution_count": null,
   "metadata": {
    "_uuid": "bab11cdb863d188e364c1ffed28bb59d2b77dff9"
   },
   "outputs": [],
   "source": [
    "my_color = ['rgb(150,150,155)','rgb(107,189,99)','rgb(15,148,139)']\n",
    "trace=go.Bar(\n",
    "            x=df_age.age,\n",
    "            y=df_age.mean_value,\n",
    "            text=\"Mean Medical Costs\",\n",
    "            marker=dict(\n",
    "                color=my_color,\n",
    "                line=dict(\n",
    "                color=my_color,\n",
    "                width=1.5),\n",
    "            ),\n",
    "            opacity=0.7)\n",
    "\n",
    "data = [trace]\n",
    "layout = go.Layout(title = 'age category index',\n",
    "              xaxis = dict(title = 'age'),\n",
    "              yaxis = dict(title = 'mean charges'))\n",
    "fig = go.Figure(data = data, layout = layout)\n",
    "iplot(fig)"
   ]
  },
  {
   "cell_type": "markdown",
   "metadata": {
    "_uuid": "756a42d8d05e991c5aec62415e24cafa901bb619"
   },
   "source": [
    "### 5.Medical Cost by Age and Sex\n"
   ]
  },
  {
   "cell_type": "code",
   "execution_count": null,
   "metadata": {
    "_uuid": "cbd9557e658900288b2bebb849579243789a5e1e"
   },
   "outputs": [],
   "source": [
    "sns.set_style('ticks')\n",
    "col_list = ['light lavender','denim']\n",
    "col_list_palette = sns.xkcd_palette(col_list)\n",
    "sns.set_palette(col_list_palette)\n",
    "a = sns.FacetGrid(df, col='sex',hue='sex',height =6,aspect= 0.9)                  \n",
    "a.map(plt.scatter, 'age','charges')\n",
    "a.set_axis_labels('Age', 'Medical Costs in Dollars')\n",
    "plt.suptitle('Medical Costs by Age & Sex', fontsize = 25);plt.tight_layout(rect=[0, 0.03, 1, 0.95])"
   ]
  },
  {
   "cell_type": "markdown",
   "metadata": {
    "_uuid": "bd8ee76acf0d85eb65fe8610a1edd45018550e31"
   },
   "source": [
    "0: female \n",
    "1:male"
   ]
  },
  {
   "cell_type": "markdown",
   "metadata": {
    "_uuid": "8251367f68dae67bea5deef1096edc94a3f9b497"
   },
   "source": [
    "### 6. Medical Cost by Age and Smoker/Non-Smoker\n"
   ]
  },
  {
   "cell_type": "code",
   "execution_count": null,
   "metadata": {
    "_uuid": "76afae357f6bd24be083ec00114dfbef8dc86770"
   },
   "outputs": [],
   "source": [
    "# Medical Cost by Age and Smoker/Non-Smoker\n",
    "col_list = [\"shit\",\"pistachio\"]\n",
    "col_list_palette = sns.xkcd_palette(col_list)\n",
    "sns.set_palette(col_list_palette)\n",
    "a = sns.FacetGrid(df, col='smoker',hue= 'smoker',height =6,aspect= 0.9)\n",
    "a.map(plt.scatter, 'age','charges')\n",
    "plt.suptitle('Medical Costs by Age & Smoker', fontsize = 25)\n",
    "a.set_axis_labels('Age', 'Medical Costs in Dollars')\n",
    "plt.tight_layout(rect=[0, 0.03, 1, 0.95])"
   ]
  },
  {
   "cell_type": "markdown",
   "metadata": {
    "_uuid": "b21705175ebf0f7f208dca817493f3a549f2c304"
   },
   "source": [
    "0: smoker \n",
    "1: no_smoker"
   ]
  },
  {
   "cell_type": "markdown",
   "metadata": {
    "_uuid": "a9046dc3b09efd4004ac83e1f216310471441c9c"
   },
   "source": [
    "## Pattern Extraction Experiments"
   ]
  },
  {
   "cell_type": "markdown",
   "metadata": {
    "_uuid": "0fc7600c8d34ee249c9da657d0a524fa44bf6788"
   },
   "source": [
    "### Experiment 1: linear regression method with same training and test data"
   ]
  },
  {
   "cell_type": "code",
   "execution_count": null,
   "metadata": {
    "_uuid": "2fd5155e9fdc85f4ac0a4035ccfd58d504530f7c"
   },
   "outputs": [],
   "source": [
    "from sklearn.model_selection import train_test_split\n",
    "from sklearn import linear_model\n",
    "from sklearn.metrics import mean_squared_error\n",
    "from sklearn import metrics"
   ]
  },
  {
   "cell_type": "markdown",
   "metadata": {
    "_uuid": "ca6598d9a305347f18580c8199072c0a86578d6b"
   },
   "source": [
    "notice that all attributes are numeric"
   ]
  },
  {
   "cell_type": "code",
   "execution_count": null,
   "metadata": {
    "_uuid": "865156bb68cb6bdaa50a51657103967c2535cbb8"
   },
   "outputs": [],
   "source": [
    "df.head()"
   ]
  },
  {
   "cell_type": "code",
   "execution_count": null,
   "metadata": {
    "_uuid": "3dc31059692c21da02047630865940253d106509"
   },
   "outputs": [],
   "source": [
    "df.keys()"
   ]
  },
  {
   "cell_type": "code",
   "execution_count": null,
   "metadata": {
    "_uuid": "97fbb878b7fdb91de4689f99b5cfa09c51a91243"
   },
   "outputs": [],
   "source": [
    "# In this part, we will use the entire data as training and test sets.\n",
    "\n",
    "x = df.drop(['charges'], axis = 1)\n",
    "y = df.charges"
   ]
  },
  {
   "cell_type": "code",
   "execution_count": null,
   "metadata": {
    "_uuid": "7bb16c6172140397784f57a758a43f38eae80520"
   },
   "outputs": [],
   "source": [
    "x_train=x\n",
    "y_train=y\n",
    "x_test=x\n",
    "y_test=y"
   ]
  },
  {
   "cell_type": "code",
   "execution_count": null,
   "metadata": {
    "_uuid": "0129d4b9b9bf4c65f238cc17a20c7c303479c592"
   },
   "outputs": [],
   "source": [
    "from sklearn.linear_model import LinearRegression"
   ]
  },
  {
   "cell_type": "code",
   "execution_count": null,
   "metadata": {
    "_uuid": "0919917c40137409c8644f5e33ba5dc6c75070dd"
   },
   "outputs": [],
   "source": [
    "# create object of LinearRegression class\n",
    "model1 = LinearRegression()"
   ]
  },
  {
   "cell_type": "code",
   "execution_count": null,
   "metadata": {
    "_uuid": "61809f16d5110da727c3de4bf63d7566f4751c32"
   },
   "outputs": [],
   "source": [
    "# call learning algorithm with training data\n",
    "model1.fit(x_train, y_train)"
   ]
  },
  {
   "cell_type": "code",
   "execution_count": null,
   "metadata": {
    "_uuid": "8364d307aa7cb4b22485434fb7679bfc90d729d8"
   },
   "outputs": [],
   "source": [
    "# use extracted pattern to make predictions on the test set\n",
    "ypred1 = model1.predict(x_test)"
   ]
  },
  {
   "cell_type": "code",
   "execution_count": null,
   "metadata": {
    "_uuid": "67c988e605169d0d056d2d3a89f338999f3e2e7d"
   },
   "outputs": [],
   "source": [
    "type(ypred1)"
   ]
  },
  {
   "cell_type": "code",
   "execution_count": null,
   "metadata": {
    "_uuid": "13213a5ffb1bed7873d411639dfe20694175cba2"
   },
   "outputs": [],
   "source": [
    "ypred1.shape"
   ]
  },
  {
   "cell_type": "code",
   "execution_count": null,
   "metadata": {
    "_uuid": "08086c8de34ca47dd6a0e37f5d77ca9def6921d6"
   },
   "outputs": [],
   "source": [
    "# measure accuracy on test test\n",
    "rmse1 = np.sqrt(metrics.mean_squared_error(y_test, ypred1))\n",
    "mae1 = metrics.mean_absolute_error(y_test, ypred1)"
   ]
  },
  {
   "cell_type": "code",
   "execution_count": null,
   "metadata": {
    "_uuid": "c9d62d8bb1a2f33113ad866813f99ea84265b887"
   },
   "outputs": [],
   "source": [
    "print(\"Root mean squared error: %.3f\" % rmse1)\n",
    "print('Mean Absolute Error: %.3f' % mae1)"
   ]
  },
  {
   "cell_type": "code",
   "execution_count": null,
   "metadata": {
    "_uuid": "2f5e73e940d1c011bf255a6a0c372c550922c964"
   },
   "outputs": [],
   "source": [
    "# Make sure this value is identical to output of previous cell\n",
    "ypred1[0]"
   ]
  },
  {
   "cell_type": "markdown",
   "metadata": {
    "_uuid": "42b0b608b2a8b9c38885825a203eb05d044e3c5c"
   },
   "source": [
    "#### Divide data into training and test subsets\n",
    "use the ``train_test_split`` method to randomly divide the data into 80% training instances and 20% test instances.  The result should be stored in four variables: ``Xtrain``, ``ytrain``, ``Xtest``, ``ytest``\n"
   ]
  },
  {
   "cell_type": "code",
   "execution_count": null,
   "metadata": {
    "_uuid": "ffb28b9d95269e96acb579beb0dd4d473fb79e38"
   },
   "outputs": [],
   "source": [
    "    # read documentation\n",
    "?train_test_split"
   ]
  },
  {
   "cell_type": "code",
   "execution_count": null,
   "metadata": {
    "_uuid": "b51972ba3a90f24313872967b43c3d26cebb8a6e"
   },
   "outputs": [],
   "source": [
    "Xtrain, Xtest, ytrain, ytest = train_test_split( x, y, test_size=0.2)"
   ]
  },
  {
   "cell_type": "code",
   "execution_count": null,
   "metadata": {
    "_uuid": "5c46082db4040dd95b8ca6d8aa62c7a7500e96fd"
   },
   "outputs": [],
   "source": [
    "model2 = LinearRegression()"
   ]
  },
  {
   "cell_type": "code",
   "execution_count": null,
   "metadata": {
    "_uuid": "8d1635732f1118db1021a96ffb89762b7b9018ac"
   },
   "outputs": [],
   "source": [
    "model2.fit(Xtrain, ytrain)"
   ]
  },
  {
   "cell_type": "code",
   "execution_count": null,
   "metadata": {
    "_uuid": "0907d54f1d5d7cdac536e97db2696f08786c8a72"
   },
   "outputs": [],
   "source": [
    "ypred2 = model2.predict(Xtest)"
   ]
  },
  {
   "cell_type": "code",
   "execution_count": null,
   "metadata": {
    "_uuid": "fea29fd43073362945ec52e817eea57ff9fce043"
   },
   "outputs": [],
   "source": [
    "# measure accuracy on test test\n",
    "rmse2 = np.sqrt(metrics.mean_squared_error(ytest, ypred2))\n",
    "mae2 = metrics.mean_absolute_error(ytest, ypred2)"
   ]
  },
  {
   "cell_type": "code",
   "execution_count": null,
   "metadata": {
    "_uuid": "988f399815950cf35c0d46663488e8ae126de9b5"
   },
   "outputs": [],
   "source": [
    "print(\"Root mean squared error: %.3f\" % rmse2)\n",
    "print('Mean Absolute Error: %.3f' % mae2)"
   ]
  },
  {
   "cell_type": "code",
   "execution_count": null,
   "metadata": {
    "_uuid": "cf8e3bbf5e97974dcf9af345e1da65fc4fcac276"
   },
   "outputs": [],
   "source": [
    "print(rmse1,mae1)\n",
    "print(rmse2,mae2)"
   ]
  },
  {
   "cell_type": "code",
   "execution_count": null,
   "metadata": {
    "_uuid": "909fe2066d1d77ab8c05cbc04a0a438f49c8bf37"
   },
   "outputs": [],
   "source": [
    "pd.DataFrame( {'model 1 coefficient': model1.coef_, 'model 2 coefficient': model2.coef_})"
   ]
  },
  {
   "cell_type": "markdown",
   "metadata": {
    "_uuid": "966ec0cc691d3f5b850c37c7abe241422267c351"
   },
   "source": [
    "## Evaluate pattern"
   ]
  },
  {
   "cell_type": "code",
   "execution_count": null,
   "metadata": {
    "_uuid": "d29addc5867a70e671ae38211fe9824a0c00014f"
   },
   "outputs": [],
   "source": [
    "df = pd.DataFrame({'predicted_price':ypred2, 'true_price':ytest})\n",
    "df.head(10)"
   ]
  },
  {
   "cell_type": "code",
   "execution_count": null,
   "metadata": {
    "_uuid": "bb3bb90eef1ffa680e422b8dc19c0c5a8f256d64"
   },
   "outputs": [],
   "source": [
    "\n",
    "\n",
    "x_train1,x_test1,y_train1,y_test1 = train_test_split(x,y, random_state = 0)\n",
    "lr = LinearRegression().fit(x_train1,y_train1)\n",
    "\n",
    "y_train_pred = lr.predict(x_train1)\n",
    "y_test_pred = lr.predict(x_test1)\n",
    "\n",
    "print(lr.score(x_test1,y_test1))"
   ]
  },
  {
   "cell_type": "code",
   "execution_count": null,
   "metadata": {
    "_uuid": "cba33f800923ad8921d216c5ee802be02f03b9ea"
   },
   "outputs": [],
   "source": [
    "df.plot.scatter(x='true_price', y='predicted_price', c= ['#feb3b3', '#c5feb3'],title = 'predicted price vs. true price')\n"
   ]
  },
  {
   "cell_type": "markdown",
   "metadata": {
    "_uuid": "2e221fd3bd128937dd4522f57818d0be933cf571"
   },
   "source": [
    "END."
   ]
  },
  {
   "cell_type": "code",
   "execution_count": null,
   "metadata": {
    "_uuid": "01ac148cf86766705aeca3e5299e68fdddd2871d"
   },
   "outputs": [],
   "source": []
  }
 ],
 "metadata": {
  "kernelspec": {
   "display_name": "Python 3",
   "language": "python",
   "name": "python3"
  },
  "language_info": {
   "codemirror_mode": {
    "name": "ipython",
    "version": 3
   },
   "file_extension": ".py",
   "mimetype": "text/x-python",
   "name": "python",
   "nbconvert_exporter": "python",
   "pygments_lexer": "ipython3",
   "version": "3.6.5"
  }
 },
 "nbformat": 4,
 "nbformat_minor": 1
}
